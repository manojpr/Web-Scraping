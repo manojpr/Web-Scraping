{
 "cells": [
  {
   "cell_type": "markdown",
   "id": "44794cc9",
   "metadata": {},
   "source": [
    "###### Importing required packages"
   ]
  },
  {
   "cell_type": "code",
   "execution_count": 1,
   "id": "d529000f",
   "metadata": {},
   "outputs": [],
   "source": [
    "from selenium import webdriver\n",
    "from selenium.webdriver. common.keys import Keys\n",
    "from selenium.webdriver.support import expected_conditions as EC\n",
    "from selenium.webdriver. common.by import By\n",
    "from selenium.webdriver. support.wait import WebDriverWait"
   ]
  },
  {
   "cell_type": "code",
   "execution_count": 2,
   "id": "3996a111",
   "metadata": {},
   "outputs": [],
   "source": [
    "from urllib.request import urlopen\n",
    "from bs4 import BeautifulSoup"
   ]
  },
  {
   "cell_type": "code",
   "execution_count": 3,
   "id": "91a7a6aa",
   "metadata": {},
   "outputs": [],
   "source": [
    "# !pip install selenium"
   ]
  },
  {
   "cell_type": "markdown",
   "id": "8eff12f2",
   "metadata": {},
   "source": [
    "###### Using vhrome driver to scrap data from the chrome browser"
   ]
  },
  {
   "cell_type": "code",
   "execution_count": 4,
   "id": "d71753da",
   "metadata": {
    "scrolled": true
   },
   "outputs": [
    {
     "name": "stderr",
     "output_type": "stream",
     "text": [
      "C:\\Users\\ACER\\AppData\\Local\\Temp\\ipykernel_16628\\4128986798.py:2: DeprecationWarning: executable_path has been deprecated, please pass in a Service object\n",
      "  driver = webdriver.Chrome('C:/Users/ACER/Py program/Web Scraping/chromedriver.exe')\n"
     ]
    }
   ],
   "source": [
    "from selenium import webdriver\n",
    "driver = webdriver.Chrome('C:/Users/ACER/Py program/Web Scraping/chromedriver.exe')\n"
   ]
  },
  {
   "cell_type": "markdown",
   "id": "33d723ef",
   "metadata": {},
   "source": [
    "###### Link to BookMyShow Salem is provided"
   ]
  },
  {
   "cell_type": "code",
   "execution_count": 5,
   "id": "44538f84",
   "metadata": {},
   "outputs": [],
   "source": [
    "url = \"https://in.bookmyshow.com/explore/home/salem\"\n",
    "driver.get(url)\n",
    "html = driver.page_source"
   ]
  },
  {
   "cell_type": "code",
   "execution_count": 6,
   "id": "86f46065",
   "metadata": {},
   "outputs": [],
   "source": [
    "soup = BeautifulSoup(html, 'html.parser')"
   ]
  },
  {
   "cell_type": "markdown",
   "id": "6188c825",
   "metadata": {},
   "source": [
    "###### Getting the movie names and their respective links that are currently screening in Theatres"
   ]
  },
  {
   "cell_type": "code",
   "execution_count": 7,
   "id": "e7d71f48",
   "metadata": {},
   "outputs": [
    {
     "name": "stdout",
     "output_type": "stream",
     "text": [
      "['Avatar: The Way of Water', 'Gatta Kusthi', 'Naai Sekar Returns', 'Gold', 'Varalaru Mukkiyam']\n"
     ]
    }
   ],
   "source": [
    "Movies=[]\n",
    "for title in soup.find_all(\"div\", {\"class\": \"style__StyledText-sc-7o7nez-0 cLfBph\"}):\n",
    "     Movies.append(title.string)\n",
    "print(Movies)"
   ]
  },
  {
   "cell_type": "code",
   "execution_count": 11,
   "id": "454e43d2",
   "metadata": {},
   "outputs": [
    {
     "data": {
      "text/plain": [
       "['https://in.bookmyshow.com/salem/movies/avatar-the-way-of-water/ET00037264',\n",
       " 'https://in.bookmyshow.com/salem/movies/gatta-kusthi/ET00326206',\n",
       " 'https://in.bookmyshow.com/salem/movies/naai-sekar-returns/ET00343904',\n",
       " 'https://in.bookmyshow.com/salem/movies/gold/ET00333494',\n",
       " 'https://in.bookmyshow.com/salem/movies/varalaru-mukkiyam/ET00331114']"
      ]
     },
     "execution_count": 11,
     "metadata": {},
     "output_type": "execute_result"
    }
   ],
   "source": [
    "Links=[]\n",
    "for title in soup.find(\"div\", {\"class\": \"style__WidgetContainerBody-sc-lnhrs7-2 bPdVMo\"}).findAll(\"a\"):\n",
    "     Links.append(title.attrs['href'])\n",
    "Links"
   ]
  },
  {
   "cell_type": "markdown",
   "id": "089a6053",
   "metadata": {},
   "source": [
    "###### Complex Scrapping part"
   ]
  },
  {
   "cell_type": "markdown",
   "id": "c563044f",
   "metadata": {},
   "source": [
    "###### This extracts the theatre names for each movie name passed into it and calls further fuctions to extract count of tickets"
   ]
  },
  {
   "cell_type": "code",
   "execution_count": 31,
   "id": "d53a2872",
   "metadata": {},
   "outputs": [],
   "source": [
    "import time\n",
    "def backend_1(link):\n",
    "    url = link\n",
    "    driver.get(url)\n",
    "    html = driver.page_source\n",
    "    soup1 = BeautifulSoup(html, 'html.parser')\n",
    "    WebDriverWait(driver,10).until(EC.element_to_be_clickable((By.CSS_SELECTOR,\"div[class='styles__CtaText-sc-1vmod7e-2 bBLrVT' ] \" ))).click()\n",
    "    html=driver.page_source\n",
    "    soup = BeautifulSoup(html, 'html.parser')\n",
    "    theatre=[]\n",
    "    for title in soup.find_all(\"a\", {\"class\": \"__venue-name\"}):\n",
    "         theatre.append(title.string)\n",
    "    print(theatre)\n",
    "    per_movie(driver)\n",
    "    "
   ]
  },
  {
   "cell_type": "code",
   "execution_count": 13,
   "id": "c9710681",
   "metadata": {},
   "outputs": [],
   "source": [
    "def per_movie(driver):\n",
    "    html = driver.page_source\n",
    "    soup1 = BeautifulSoup(html, 'html.parser')\n",
    "    Links_time=[]\n",
    "    for title in soup1.findAll(\"a\", {\"class\": \"showtime-pill\"}):\n",
    "        try:\n",
    "            Links_time.append(\"https://in.bookmyshow.com\"+title.attrs['href'])\n",
    "        except:\n",
    "                pass\n",
    "    Links_time\n",
    "#     print(Links_time)\n",
    "    count_tickets(Links_time)"
   ]
  },
  {
   "cell_type": "code",
   "execution_count": 14,
   "id": "99546937",
   "metadata": {},
   "outputs": [],
   "source": [
    "import time\n",
    "def count_tickets(Links_time):\n",
    "    for i in Links_time:\n",
    "        url = i\n",
    "        driver.get(url)\n",
    "        WebDriverWait(driver,10).until(EC.element_to_be_clickable((By.CSS_SELECTOR,\"div[class='__buytickets' ] \" ))).click()\n",
    "#         try:\n",
    "#             WebDriverWait(driver,10).until(EC.element_to_be_clickable((By.CSS_SELECTOR,\"button[class='wzrk-cancel' ] \" ))).click()\n",
    "        try:\n",
    "            time.sleep(2)\n",
    "            WebDriverWait(driver,10).until(EC.element_to_be_clickable((By.CSS_SELECTOR,\"div[class='bar-btn _primary' ] \" ))).click()\n",
    "        except:\n",
    "            WebDriverWait(driver,10).until(EC.element_to_be_clickable((By.CSS_SELECTOR,\"div[class='bar-btn _primary _centered' ] \" ))).click()\n",
    "#         WebDriverWait(driver, 15).until(EC.presence_of_element_located((By.XPATH,driver.current_url)))\n",
    "        time.sleep(2)    \n",
    "        WebDriverWait(driver,10).until(EC.element_to_be_clickable((By.CSS_SELECTOR,\"div[class='bar-btn _primary _full-width _centered' ] \" ))).click()\n",
    "        time.sleep(1)\n",
    "        tot,emp,bok=counter(driver)\n",
    "        print(i)\n",
    "        print(f\"Total : {tot} , Empty : {emp}, Booked : {bok}\")"
   ]
  },
  {
   "cell_type": "code",
   "execution_count": 15,
   "id": "96726649",
   "metadata": {},
   "outputs": [],
   "source": [
    "def counter(driver):\n",
    "    html = driver.page_source\n",
    "    soup2 = BeautifulSoup(html, 'html.parser')\n",
    "    seats=[]\n",
    "    cou=0\n",
    "    blocked=[]\n",
    "    free=[]\n",
    "    for title in soup2.findAll(\"div\", {\"class\": \"seatI\"}):\n",
    "        seats.append(title.get_text())\n",
    "    for n,i in enumerate(seats):\n",
    "        try:\n",
    "            int(i)\n",
    "            cou=cou+1\n",
    "        except:\n",
    "            if i=='...':\n",
    "                cou=cou+1\n",
    "\n",
    "    for title in soup2.findAll(\"a\", {\"class\": \"_blocked\"}):\n",
    "        blocked.append(title.get_text())\n",
    "\n",
    "    for title in soup2.findAll(\"a\", {\"class\": \"_available\"}):\n",
    "        free.append(title.get_text())\n",
    "    return cou,len(free),len(blocked)\n",
    "    "
   ]
  },
  {
   "cell_type": "code",
   "execution_count": 20,
   "id": "859a65d6",
   "metadata": {},
   "outputs": [
    {
     "data": {
      "text/plain": [
       "['https://in.bookmyshow.com/salem/movies/avatar-the-way-of-water/ET00037264',\n",
       " 'https://in.bookmyshow.com/salem/movies/gatta-kusthi/ET00326206',\n",
       " 'https://in.bookmyshow.com/salem/movies/naai-sekar-returns/ET00343904',\n",
       " 'https://in.bookmyshow.com/salem/movies/gold/ET00333494',\n",
       " 'https://in.bookmyshow.com/salem/movies/varalaru-mukkiyam/ET00331114']"
      ]
     },
     "execution_count": 20,
     "metadata": {},
     "output_type": "execute_result"
    }
   ],
   "source": [
    "Links"
   ]
  },
  {
   "cell_type": "markdown",
   "id": "c24fb408",
   "metadata": {},
   "source": [
    "###### Output obtained"
   ]
  },
  {
   "cell_type": "code",
   "execution_count": 32,
   "id": "f777098a",
   "metadata": {
    "scrolled": true
   },
   "outputs": [
    {
     "name": "stdout",
     "output_type": "stream",
     "text": [
      "Avatar: The Way of Water\n",
      "[]\n",
      "Gatta Kusthi\n",
      "['Aascars Multiplex: Salem', 'ARRS Multiplex: Salem', 'INOX: Reliance Mall, Salem', 'M.N.K Vel Theatre: Mallasamudhram']\n",
      "https://in.bookmyshow.com/booktickets/ASMS/10164\n",
      "Total : 207 , Empty : 168, Booked : 39\n",
      "https://in.bookmyshow.com/booktickets/ARRS/30727\n",
      "Total : 395 , Empty : 327, Booked : 68\n",
      "https://in.bookmyshow.com/booktickets/ARRS/30717\n",
      "Total : 395 , Empty : 323, Booked : 72\n",
      "https://in.bookmyshow.com/booktickets/ARRS/30718\n",
      "Total : 395 , Empty : 333, Booked : 62\n",
      "https://in.bookmyshow.com/booktickets/INOM/8105\n",
      "Total : 236 , Empty : 147, Booked : 89\n",
      "https://in.bookmyshow.com/booktickets/INOM/8106\n",
      "Total : 236 , Empty : 156, Booked : 80\n",
      "https://in.bookmyshow.com/booktickets/MNKV/16260\n",
      "Total : 0 , Empty : 0, Booked : 0\n",
      "https://in.bookmyshow.com/booktickets/MNKV/16274\n",
      "Total : 0 , Empty : 0, Booked : 0\n",
      "https://in.bookmyshow.com/booktickets/MNKV/16281\n",
      "Total : 0 , Empty : 0, Booked : 0\n",
      "Naai Sekar Returns\n",
      "['Sree Raja Sabari: Salem']\n",
      "https://in.bookmyshow.com/booktickets/RASA/4609\n",
      "Total : 582 , Empty : 516, Booked : 62\n",
      "https://in.bookmyshow.com/booktickets/RASA/4610\n",
      "Total : 582 , Empty : 517, Booked : 63\n",
      "https://in.bookmyshow.com/booktickets/RASA/4611\n",
      "Total : 582 , Empty : 515, Booked : 65\n",
      "Gold\n",
      "['ARRS Multiplex: Salem']\n",
      "https://in.bookmyshow.com/booktickets/ARRS/30736\n",
      "Total : 784 , Empty : 674, Booked : 110\n",
      "https://in.bookmyshow.com/booktickets/ARRS/30737\n",
      "Total : 784 , Empty : 676, Booked : 108\n",
      "https://in.bookmyshow.com/booktickets/ARRS/30738\n",
      "Total : 784 , Empty : 676, Booked : 108\n",
      "Varalaru Mukkiyam\n",
      "['ARRS Multiplex: Salem']\n",
      "https://in.bookmyshow.com/booktickets/ARRS/30704\n",
      "Total : 395 , Empty : 328, Booked : 67\n",
      "https://in.bookmyshow.com/booktickets/ARRS/30706\n",
      "Total : 395 , Empty : 338, Booked : 57\n"
     ]
    }
   ],
   "source": [
    "import time\n",
    "for n,i in enumerate(Links):\n",
    "    print(Movies[n])\n",
    "    backend_1(Links[n])\n",
    "    time.sleep(30)\n",
    "    "
   ]
  },
  {
   "cell_type": "code",
   "execution_count": null,
   "id": "ce06a895",
   "metadata": {},
   "outputs": [],
   "source": [
    "theatres={\n",
    "\"SALM\":\"Kailash Cinemas: Salem\",\n",
    "    \"GTTS\":\"ARRS Geethalaya Theatre: (SALEM OLD BUS STAND)\",\n",
    "    \"MNKV\":\"M.N.K Vel Theatre: Mallasamudhram\",\n",
    "    \"PSLM\":\"Prakash Cinema: Salem\",\n",
    " \"ASMS\":\"Aascars Multiplex: Salem\",\n",
    " \"ARRS\":\"ARRS Multiplex: Salem\", \n",
    " \"INOM\":'INOX: Reliance Mall, Salem',\n",
    " \"TTOR\":'Thangam Theatre: Omalur',\"RASA\":\"Sree Raja Sabari: Salem\"}\n",
    "theatres['PSLM']"
   ]
  },
  {
   "cell_type": "markdown",
   "id": "b958784a",
   "metadata": {},
   "source": [
    "# END"
   ]
  },
  {
   "cell_type": "code",
   "execution_count": null,
   "id": "697c7458",
   "metadata": {},
   "outputs": [],
   "source": []
  },
  {
   "cell_type": "code",
   "execution_count": null,
   "id": "4892fa42",
   "metadata": {},
   "outputs": [],
   "source": []
  },
  {
   "cell_type": "code",
   "execution_count": null,
   "id": "a7d8f9e0",
   "metadata": {},
   "outputs": [],
   "source": []
  },
  {
   "cell_type": "code",
   "execution_count": null,
   "id": "7dc450d5",
   "metadata": {},
   "outputs": [],
   "source": []
  },
  {
   "cell_type": "code",
   "execution_count": null,
   "id": "5807bb48",
   "metadata": {},
   "outputs": [],
   "source": []
  },
  {
   "cell_type": "code",
   "execution_count": null,
   "id": "b5d55218",
   "metadata": {},
   "outputs": [],
   "source": []
  },
  {
   "cell_type": "code",
   "execution_count": null,
   "id": "d4761f26",
   "metadata": {},
   "outputs": [],
   "source": []
  },
  {
   "cell_type": "code",
   "execution_count": null,
   "id": "fea8c9b7",
   "metadata": {},
   "outputs": [],
   "source": []
  },
  {
   "cell_type": "code",
   "execution_count": null,
   "id": "7a858ba6",
   "metadata": {},
   "outputs": [],
   "source": []
  },
  {
   "cell_type": "code",
   "execution_count": null,
   "id": "94000f3a",
   "metadata": {},
   "outputs": [],
   "source": []
  },
  {
   "cell_type": "code",
   "execution_count": null,
   "id": "c8a0e093",
   "metadata": {},
   "outputs": [],
   "source": []
  },
  {
   "cell_type": "code",
   "execution_count": null,
   "id": "904903eb",
   "metadata": {},
   "outputs": [],
   "source": []
  },
  {
   "cell_type": "markdown",
   "id": "34c45e93",
   "metadata": {},
   "source": [
    "# Trial and Error\n"
   ]
  },
  {
   "cell_type": "code",
   "execution_count": null,
   "id": "48ecd989",
   "metadata": {},
   "outputs": [],
   "source": [
    "# Links_time=[]\n",
    "# for title in soup1.findAll(\"a\", {\"class\": \"showtime-pill\"}):\n",
    "#      Links_time.append(\"https://in.bookmyshow.com\"+title.attrs['href'])\n",
    "# Links_time"
   ]
  },
  {
   "cell_type": "code",
   "execution_count": null,
   "id": "6a05174e",
   "metadata": {},
   "outputs": [],
   "source": []
  },
  {
   "cell_type": "code",
   "execution_count": null,
   "id": "afb71fbd",
   "metadata": {},
   "outputs": [],
   "source": [
    "# if theatre.index in \"https://in.bookmyshow.com/booktickets/SALM/11531\""
   ]
  },
  {
   "cell_type": "code",
   "execution_count": null,
   "id": "0a59f90f",
   "metadata": {},
   "outputs": [],
   "source": [
    "# theatres.keys"
   ]
  },
  {
   "cell_type": "code",
   "execution_count": null,
   "id": "f40fac15",
   "metadata": {},
   "outputs": [],
   "source": []
  },
  {
   "cell_type": "code",
   "execution_count": null,
   "id": "f93a8325",
   "metadata": {},
   "outputs": [],
   "source": []
  },
  {
   "cell_type": "code",
   "execution_count": null,
   "id": "63f6f39b",
   "metadata": {},
   "outputs": [],
   "source": []
  },
  {
   "cell_type": "code",
   "execution_count": null,
   "id": "46edf29d",
   "metadata": {},
   "outputs": [],
   "source": []
  },
  {
   "cell_type": "code",
   "execution_count": null,
   "id": "703bc8cf",
   "metadata": {},
   "outputs": [],
   "source": []
  },
  {
   "cell_type": "code",
   "execution_count": null,
   "id": "5007c7f7",
   "metadata": {},
   "outputs": [],
   "source": [
    "#     html = driver.page_source\n",
    "#     soup1 = BeautifulSoup(html, 'html.parser')"
   ]
  },
  {
   "cell_type": "code",
   "execution_count": null,
   "id": "034ac375",
   "metadata": {},
   "outputs": [],
   "source": [
    "# url = Links[0]\n",
    "# driver.get(url)"
   ]
  },
  {
   "cell_type": "code",
   "execution_count": null,
   "id": "2bc3b6bb",
   "metadata": {},
   "outputs": [],
   "source": [
    "#     url = Links[0]\n",
    "#     driver.get(url)\n",
    "#     html = driver.page_source\n",
    "#     soup1 = BeautifulSoup(html, 'html.parser')\n",
    "#     WebDriverWait(driver,10).until(EC.element_to_be_clickable((By.CSS_SELECTOR,\"button[class='sc-8f9mtj-0 sc-8f9mtj-1 sc-1vmod7e-0 gsJmXR' ] \" ))).click()\n",
    "#     html=driver.page_source\n",
    "#     soup = BeautifulSoup(html, 'html.parser')\n",
    "#     theatre=[]\n",
    "#     for title in soup.find_all(\"a\", {\"class\": \"__venue-name\"}):\n",
    "#          theatre.append(title.string)\n",
    "#     print(theatre)\n",
    "    "
   ]
  },
  {
   "cell_type": "code",
   "execution_count": null,
   "id": "8ed0169c",
   "metadata": {},
   "outputs": [],
   "source": [
    "#     html = driver.page_source\n",
    "#     soup1 = BeautifulSoup(html, 'html.parser')\n",
    "#     Links_time=[]\n",
    "#     for title in soup1.findAll(\"a\", {\"class\": \"showtime-pill\"}):\n",
    "#         try:\n",
    "#             Links_time.append(\"https://in.bookmyshow.com\"+title.attrs['href'])\n",
    "#         except:\n",
    "#                 pass\n",
    "#     Links_time"
   ]
  },
  {
   "cell_type": "code",
   "execution_count": null,
   "id": "18a3c010",
   "metadata": {},
   "outputs": [],
   "source": [
    "#         url = Links_time[0]\n",
    "#         driver.get(url)\n",
    "#         WebDriverWait(driver,10).until(EC.element_to_be_clickable((By.CSS_SELECTOR,\"div[class='__buytickets' ] \" ))).click()"
   ]
  },
  {
   "cell_type": "code",
   "execution_count": null,
   "id": "2415d1ad",
   "metadata": {},
   "outputs": [],
   "source": [
    "#         try:\n",
    "#             time.sleep(2)\n",
    "#             WebDriverWait(driver,10).until(EC.element_to_be_clickable((By.CSS_SELECTOR,\"div[class='bar-btn _primary' ] \" ))).click()\n",
    "#         except:\n",
    "#             WebDriverWait(driver,10).until(EC.element_to_be_clickable((By.CSS_SELECTOR,\"div[class='bar-btn _primary _centered' ] \" ))).click()\n"
   ]
  },
  {
   "cell_type": "code",
   "execution_count": null,
   "id": "9b3770bf",
   "metadata": {},
   "outputs": [],
   "source": [
    "# WebDriverWait(driver,10).until(EC.element_to_be_clickable((By.CSS_SELECTOR,\"div[class='bar-btn _primary _full-width _centered' ] \" ))).click()\n"
   ]
  },
  {
   "cell_type": "code",
   "execution_count": null,
   "id": "005b5634",
   "metadata": {},
   "outputs": [],
   "source": [
    "# html = driver.page_source"
   ]
  },
  {
   "cell_type": "code",
   "execution_count": null,
   "id": "58a0b0aa",
   "metadata": {},
   "outputs": [],
   "source": [
    "# soup2 = BeautifulSoup(html, 'html.parser')"
   ]
  },
  {
   "cell_type": "code",
   "execution_count": null,
   "id": "dfcaedad",
   "metadata": {},
   "outputs": [],
   "source": [
    "# no=[]\n",
    "# for i in range(0,40):\n",
    "#     no.append(i)"
   ]
  },
  {
   "cell_type": "code",
   "execution_count": null,
   "id": "10489ad8",
   "metadata": {},
   "outputs": [],
   "source": [
    "# def counter(driver):\n",
    "#     html = driver.page_source\n",
    "#     soup2 = BeautifulSoup(html, 'html.parser')\n",
    "#     seats=[]\n",
    "#     cou=0\n",
    "#     blocked=[]\n",
    "#     free=[]\n",
    "#     for title in soup2.findAll(\"div\", {\"class\": \"seatI\"}):\n",
    "#         seats.append(title.get_text())\n",
    "#     for n,i in enumerate(seats):\n",
    "#         try:\n",
    "#             int(i)\n",
    "#             cou=cou+1\n",
    "#         except:\n",
    "#             pass\n",
    "\n",
    "#     for title in soup2.findAll(\"a\", {\"class\": \"_blocked\"}):\n",
    "#         blocked.append(title.get_text())\n",
    "\n",
    "#     for title in soup2.findAll(\"a\", {\"class\": \"_available\"}):\n",
    "#         free.append(title.get_text())\n",
    "#     return cou,len(free),len(blocked)"
   ]
  },
  {
   "cell_type": "code",
   "execution_count": null,
   "id": "17ff07ba",
   "metadata": {},
   "outputs": [],
   "source": []
  },
  {
   "cell_type": "code",
   "execution_count": null,
   "id": "74b1366e",
   "metadata": {},
   "outputs": [],
   "source": [
    "# def backend(link):\n",
    "#     url = link\n",
    "#     driver.get(url)\n",
    "#     html = driver.page_source\n",
    "#     soup1 = BeautifulSoup(html, 'html.parser')\n",
    "#     WebDriverWait(driver,10).until(EC.element_to_be_clickable((By.CSS_SELECTOR,\"button[class='sc-8f9mtj-0 sc-8f9mtj-1 sc-1vmod7e-0 gsJmXR' ] \" ))).click()\n",
    "#     html=driver.page_source\n",
    "#     soup = BeautifulSoup(html, 'html.parser')\n",
    "#     theatre=[]\n",
    "#     for title in soup.find_all(\"a\", {\"class\": \"__venue-name\"}):\n",
    "#          theatre.append(title.string)\n",
    "#     print(theatre)"
   ]
  },
  {
   "cell_type": "code",
   "execution_count": null,
   "id": "6ff45d29",
   "metadata": {},
   "outputs": [],
   "source": [
    "# for n,i in enumerate(Links):\n",
    "#     print(Movies[n])\n",
    "#     backend(i)\n",
    "    "
   ]
  },
  {
   "cell_type": "code",
   "execution_count": null,
   "id": "e46813e3",
   "metadata": {},
   "outputs": [],
   "source": []
  },
  {
   "cell_type": "code",
   "execution_count": null,
   "id": "c2b37c90",
   "metadata": {},
   "outputs": [],
   "source": []
  },
  {
   "cell_type": "code",
   "execution_count": null,
   "id": "2db44334",
   "metadata": {},
   "outputs": [],
   "source": []
  },
  {
   "cell_type": "code",
   "execution_count": null,
   "id": "ccdb4d13",
   "metadata": {},
   "outputs": [],
   "source": []
  },
  {
   "cell_type": "code",
   "execution_count": null,
   "id": "da1a891c",
   "metadata": {},
   "outputs": [],
   "source": []
  },
  {
   "cell_type": "code",
   "execution_count": null,
   "id": "1bc7dc7c",
   "metadata": {},
   "outputs": [],
   "source": []
  },
  {
   "cell_type": "code",
   "execution_count": null,
   "id": "0b15cc50",
   "metadata": {},
   "outputs": [],
   "source": [
    "# Links=[]\n",
    "# for title in soup.find(\"div\", {\"class\": \"sc-lnhrs7-2 iHQrlw\"}).findAll(\"a\"):\n",
    "#      Links.append(title.attrs['href'])\n",
    "# Links\n",
    "\n",
    "\n",
    "# from datetime import date\n",
    "\n",
    "# today = date.today()\n",
    "# today=str(today).replace('-','')\n",
    "# print(today)\n",
    "\n",
    "\n",
    "# bookingpage_links=[]\n",
    "# main=''\n",
    "# sub=''\n",
    "# sub_m=\"-salem/movie-salm-\"\n",
    "# for n,i in enumerate(Links):\n",
    "#     main=i[:-11]\n",
    "#     sub=sub_m+i[-10:]+'-MT/'+today\n",
    "#     print(main+sub)\n",
    "#     bookingpage_links.append(main+sub)\n",
    "\n",
    "\n",
    "# bookingpage_links"
   ]
  },
  {
   "cell_type": "code",
   "execution_count": null,
   "id": "78e326b2",
   "metadata": {},
   "outputs": [],
   "source": []
  },
  {
   "cell_type": "code",
   "execution_count": null,
   "id": "61de367e",
   "metadata": {},
   "outputs": [],
   "source": []
  },
  {
   "cell_type": "code",
   "execution_count": null,
   "id": "e8fbd1d3",
   "metadata": {},
   "outputs": [],
   "source": []
  },
  {
   "cell_type": "code",
   "execution_count": null,
   "id": "9e53d772",
   "metadata": {},
   "outputs": [],
   "source": []
  }
 ],
 "metadata": {
  "kernelspec": {
   "display_name": "Python 3 (ipykernel)",
   "language": "python",
   "name": "python3"
  },
  "language_info": {
   "codemirror_mode": {
    "name": "ipython",
    "version": 3
   },
   "file_extension": ".py",
   "mimetype": "text/x-python",
   "name": "python",
   "nbconvert_exporter": "python",
   "pygments_lexer": "ipython3",
   "version": "3.9.12"
  }
 },
 "nbformat": 4,
 "nbformat_minor": 5
}
